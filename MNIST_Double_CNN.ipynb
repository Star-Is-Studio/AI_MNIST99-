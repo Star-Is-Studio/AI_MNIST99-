{
 "cells": [
  {
   "cell_type": "code",
   "execution_count": 0,
   "metadata": {
    "colab": {},
    "colab_type": "code",
    "id": "P04GO_STzCLb"
   },
   "outputs": [],
   "source": [
    "import tensorflow as tf\n",
    "import numpy as np\n",
    "import matplotlib.pyplot as plt\n",
    "from tensorflow.examples.tutorials.mnist import input_data\n",
    "\n",
    "np.random.seed(20160704)\n",
    "tf.set_random_seed(20160704)"
   ]
  },
  {
   "cell_type": "markdown",
   "metadata": {
    "colab_type": "text",
    "id": "U8oiD5WMcmba"
   },
   "source": [
    "mnist data를 불러옴"
   ]
  },
  {
   "cell_type": "code",
   "execution_count": 0,
   "metadata": {
    "colab": {
     "base_uri": "https://localhost:8080/",
     "height": 433
    },
    "colab_type": "code",
    "executionInfo": {
     "elapsed": 10158,
     "status": "ok",
     "timestamp": 1544283410969,
     "user": {
      "displayName": "김현우",
      "photoUrl": "",
      "userId": "07383167550908655617"
     },
     "user_tz": -540
    },
    "id": "LIaFCs00zjtL",
    "outputId": "bcfbde59-6d43-4558-8d66-f8edd5d5e25e"
   },
   "outputs": [
    {
     "name": "stdout",
     "output_type": "stream",
     "text": [
      "WARNING:tensorflow:From <ipython-input-2-1854b1a1becf>:2: read_data_sets (from tensorflow.contrib.learn.python.learn.datasets.mnist) is deprecated and will be removed in a future version.\n",
      "Instructions for updating:\n",
      "Please use alternatives such as official/mnist/dataset.py from tensorflow/models.\n",
      "WARNING:tensorflow:From /usr/local/lib/python3.6/dist-packages/tensorflow/contrib/learn/python/learn/datasets/mnist.py:260: maybe_download (from tensorflow.contrib.learn.python.learn.datasets.base) is deprecated and will be removed in a future version.\n",
      "Instructions for updating:\n",
      "Please write your own downloading logic.\n",
      "WARNING:tensorflow:From /usr/local/lib/python3.6/dist-packages/tensorflow/contrib/learn/python/learn/datasets/mnist.py:262: extract_images (from tensorflow.contrib.learn.python.learn.datasets.mnist) is deprecated and will be removed in a future version.\n",
      "Instructions for updating:\n",
      "Please use tf.data to implement this functionality.\n",
      "Extracting /tmp/data/train-images-idx3-ubyte.gz\n",
      "WARNING:tensorflow:From /usr/local/lib/python3.6/dist-packages/tensorflow/contrib/learn/python/learn/datasets/mnist.py:267: extract_labels (from tensorflow.contrib.learn.python.learn.datasets.mnist) is deprecated and will be removed in a future version.\n",
      "Instructions for updating:\n",
      "Please use tf.data to implement this functionality.\n",
      "Extracting /tmp/data/train-labels-idx1-ubyte.gz\n",
      "WARNING:tensorflow:From /usr/local/lib/python3.6/dist-packages/tensorflow/contrib/learn/python/learn/datasets/mnist.py:110: dense_to_one_hot (from tensorflow.contrib.learn.python.learn.datasets.mnist) is deprecated and will be removed in a future version.\n",
      "Instructions for updating:\n",
      "Please use tf.one_hot on tensors.\n",
      "Extracting /tmp/data/t10k-images-idx3-ubyte.gz\n",
      "Extracting /tmp/data/t10k-labels-idx1-ubyte.gz\n",
      "WARNING:tensorflow:From /usr/local/lib/python3.6/dist-packages/tensorflow/contrib/learn/python/learn/datasets/mnist.py:290: DataSet.__init__ (from tensorflow.contrib.learn.python.learn.datasets.mnist) is deprecated and will be removed in a future version.\n",
      "Instructions for updating:\n",
      "Please use alternatives such as official/mnist/dataset.py from tensorflow/models.\n"
     ]
    }
   ],
   "source": [
    "\n",
    "mnist = input_data.read_data_sets(\"/tmp/data/\", one_hot=True)"
   ]
  },
  {
   "cell_type": "markdown",
   "metadata": {
    "colab_type": "text",
    "id": "d_akr_4-cuTB"
   },
   "source": [
    "첫 번째 단계의 합성곱필터와 폴링계층을 정의"
   ]
  },
  {
   "cell_type": "code",
   "execution_count": 0,
   "metadata": {
    "colab": {},
    "colab_type": "code",
    "id": "B-_en_FX7lfj"
   },
   "outputs": [],
   "source": [
    "num_filters1 = 32\n",
    "num_filters2 = 64\n",
    "\n",
    "num_units1 = 7*7*num_filters2\n",
    "num_units2 = 1024\n",
    "\n",
    "x = tf.placeholder(tf.float32, [None, 784])\n",
    "x_image = tf.reshape(x, [-1,28,28,1])\n",
    "\n",
    "W_conv1 = tf.get_variable(\"w_conv1\",[5,5,1,num_filters1],initializer=tf.contrib.layers.xavier_initializer())\n",
    "h_conv1 = tf.nn.conv2d(x_image, W_conv1,strides=[1,1,1,1], padding='SAME')\n",
    "\n",
    "b_conv1 = tf.Variable(tf.constant(0.1, shape=[num_filters1]))\n",
    "h_conv1_cutoff = tf.nn.relu(h_conv1 + b_conv1)\n",
    "\n",
    "h_pool1 = tf.nn.max_pool(h_conv1_cutoff, ksize=[1,2,2,1],strides=[1,2,2,1], padding='SAME')"
   ]
  },
  {
   "cell_type": "markdown",
   "metadata": {
    "colab_type": "text",
    "id": "HFU-j90Oc8QH"
   },
   "source": [
    "두 번째 단계의 합성곱필터와 폴링계층을 정의"
   ]
  },
  {
   "cell_type": "code",
   "execution_count": 0,
   "metadata": {
    "colab": {},
    "colab_type": "code",
    "id": "-KdVgcmm9o-m"
   },
   "outputs": [],
   "source": [
    "\n",
    "W_conv2 = tf.get_variable(\"w_conv2\",[5,5,num_filters1, num_filters2],initializer=tf.contrib.layers.xavier_initializer())\n",
    "\n",
    "h_conv2 = tf.nn.conv2d(h_pool1, W_conv2,strides=[1,1,1,1], padding='SAME')\n",
    "\n",
    "b_conv2 = tf.Variable(tf.constant(0.1, shape=[num_filters2]))\n",
    "h_conv2_cutoff = tf.nn.relu(h_conv2 + b_conv2)\n",
    "\n",
    "h_pool2 = tf.nn.max_pool(h_conv2_cutoff, ksize=[1,2,2,1],strides=[1,2,2,1], padding='SAME')"
   ]
  },
  {
   "cell_type": "markdown",
   "metadata": {
    "colab_type": "text",
    "id": "CkhBGezhc_3K"
   },
   "source": [
    " 결합층, 드롭아웃 계층, 소프트맥스 함수를 정의한다."
   ]
  },
  {
   "cell_type": "code",
   "execution_count": 0,
   "metadata": {
    "colab": {},
    "colab_type": "code",
    "id": "0Iisgmau-cqA"
   },
   "outputs": [],
   "source": [
    "h_pool2_flat = tf.reshape(h_pool2, [-1, 7*7*num_filters2])\n",
    "\n",
    "\n",
    "w1 = tf.get_variable(\"w1\",[num_units1,num_units2],initializer=tf.contrib.layers.xavier_initializer())\n",
    "b1 = tf.Variable(tf.constant(0.1, shape=[num_units2]))\n",
    "hidden2 = tf.nn.relu(tf.matmul(h_pool2_flat, w1) + b1)\n",
    "\n",
    "keep_prob = tf.placeholder(tf.float32)\n",
    "hidden2_drop = tf.nn.dropout(hidden2, keep_prob)\n",
    "\n",
    "w2 = tf.get_variable(\"w2\",[num_units2,10],initializer=tf.contrib.layers.xavier_initializer())\n",
    "b2 = tf.Variable(tf.zeros([10]))\n",
    "p = tf.nn.softmax(tf.matmul(hidden2_drop, w2) + b2)"
   ]
  },
  {
   "cell_type": "markdown",
   "metadata": {
    "colab_type": "text",
    "id": "9Wj1jzObdEie"
   },
   "source": [
    "loss, optimizer, accuracy을 정의한다."
   ]
  },
  {
   "cell_type": "code",
   "execution_count": 0,
   "metadata": {
    "colab": {},
    "colab_type": "code",
    "id": "_jDunLMGBoAX"
   },
   "outputs": [],
   "source": [
    "t = tf.placeholder(tf.float32, [None, 10])\n",
    "loss = tf.reduce_mean(tf.nn.softmax_cross_entropy_with_logits_v2(logits=p, labels=t))\n",
    "optimizer = tf.train.AdamOptimizer(0.0001).minimize(loss)\n",
    "correct_prediction = tf.equal(tf.argmax(p, 1), tf.argmax(t, 1))\n",
    "accuracy = tf.reduce_mean(tf.cast(correct_prediction, tf.float32))"
   ]
  },
  {
   "cell_type": "markdown",
   "metadata": {
    "colab_type": "text",
    "id": "hpMWRU0adN5-"
   },
   "source": [
    "세션을 준비한다"
   ]
  },
  {
   "cell_type": "code",
   "execution_count": 0,
   "metadata": {
    "colab": {},
    "colab_type": "code",
    "id": "kmHy2zrsCNAE"
   },
   "outputs": [],
   "source": [
    "sess = tf.InteractiveSession()\n",
    "sess.run(tf.global_variables_initializer())"
   ]
  },
  {
   "cell_type": "markdown",
   "metadata": {
    "colab_type": "text",
    "id": "_azWImjCdPsQ"
   },
   "source": [
    "학습을 20000회반복한다. float의 문제로 nan이 나오는 것 같다."
   ]
  },
  {
   "cell_type": "code",
   "execution_count": 0,
   "metadata": {
    "colab": {
     "base_uri": "https://localhost:8080/",
     "height": 377
    },
    "colab_type": "code",
    "executionInfo": {
     "elapsed": 256724,
     "status": "ok",
     "timestamp": 1544283657574,
     "user": {
      "displayName": "김현우",
      "photoUrl": "",
      "userId": "07383167550908655617"
     },
     "user_tz": -540
    },
    "id": "kS5KkfGTCWZX",
    "outputId": "000c7b52-73c8-4cea-b3a1-0f64c5ab83d5"
   },
   "outputs": [
    {
     "name": "stdout",
     "output_type": "stream",
     "text": [
      "Step: 1000, Loss: 838.974243, Accuracy: 0.975100\n",
      "Step: 2000, Loss: 452.666809, Accuracy: 0.985500\n",
      "Step: 3000, Loss: 337.046936, Accuracy: 0.988700\n",
      "Step: 4000, Loss: 290.856262, Accuracy: 0.990100\n",
      "Step: 5000, Loss: 268.446045, Accuracy: 0.990800\n",
      "Step: 6000, Loss: 248.016510, Accuracy: 0.991900\n",
      "Step: 7000, Loss: 223.197495, Accuracy: 0.992400\n",
      "Step: 8000, Loss: 217.023804, Accuracy: 0.992600\n",
      "Step: 9000, Loss: 225.896973, Accuracy: 0.992200\n",
      "Step: 10000, Loss: 207.161224, Accuracy: 0.992600\n",
      "Step: 11000, Loss: 244.336517, Accuracy: 0.992000\n",
      "Step: 12000, Loss: 253.727264, Accuracy: 0.993100\n",
      "Step: 13000, Loss: 224.667465, Accuracy: 0.992900\n",
      "Step: 14000, Loss: 212.106415, Accuracy: 0.993500\n",
      "Step: 15000, Loss: 240.525787, Accuracy: 0.993000\n",
      "Step: 16000, Loss: 240.936127, Accuracy: 0.992300\n",
      "Step: 17000, Loss: 235.511627, Accuracy: 0.992800\n",
      "Step: 18000, Loss: 267.905029, Accuracy: 0.992000\n",
      "Step: 19000, Loss: nan, Accuracy: 0.098000\n",
      "Step: 20000, Loss: nan, Accuracy: 0.098000\n"
     ]
    }
   ],
   "source": [
    "i = 0\n",
    "for _ in range(20000):\n",
    "    i += 1\n",
    "    batch_xs, batch_ts = mnist.train.next_batch(100)\n",
    "    sess.run(optimizer,feed_dict={x:batch_xs, t:batch_ts, keep_prob:0.5})\n",
    "    if i % 1000 == 0:\n",
    "        loss_val, acc_val = sess.run([loss, accuracy],feed_dict={x:mnist.test.images, t:mnist.test.labels,keep_prob:1.0})\n",
    "        print ('Step: %d, Loss: %f, Accuracy: %f'% (i, loss_val, acc_val))"
   ]
  }
 ],
 "metadata": {
  "accelerator": "GPU",
  "colab": {
   "collapsed_sections": [],
   "name": "MNIST_Double_CNN.ipynb",
   "provenance": [
    {
     "file_id": "10ZqrvbHlFlwznQ0SsThpUwAbEElUv_q_",
     "timestamp": 1544281362851
    },
    {
     "file_id": "1ru87RoDyrn5zmKl4a528fDbWmWz2nTRJ",
     "timestamp": 1543937778964
    }
   ],
   "version": "0.3.2"
  },
  "kernelspec": {
   "display_name": "Python 3",
   "language": "python",
   "name": "python3"
  },
  "language_info": {
   "codemirror_mode": {
    "name": "ipython",
    "version": 3
   },
   "file_extension": ".py",
   "mimetype": "text/x-python",
   "name": "python",
   "nbconvert_exporter": "python",
   "pygments_lexer": "ipython3",
   "version": "3.6.6"
  }
 },
 "nbformat": 4,
 "nbformat_minor": 1
}
